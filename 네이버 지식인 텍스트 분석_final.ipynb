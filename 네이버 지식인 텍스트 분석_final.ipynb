{
 "cells": [
  {
   "cell_type": "markdown",
   "id": "cc4c84ff",
   "metadata": {},
   "source": [
    "# 데이터 로드"
   ]
  },
  {
   "cell_type": "markdown",
   "id": "36370550",
   "metadata": {},
   "source": [
    "크롤링 한 데이터에서 수집기간에 맞지 않은 데이터들을 제외하고 하나의 데이터 프레임으로 병합"
   ]
  },
  {
   "cell_type": "code",
   "execution_count": null,
   "id": "628daaa4",
   "metadata": {},
   "outputs": [],
   "source": [
    "import pandas as pd\n",
    "import openpyxl\n",
    "\n",
    "doc1 = pd.read_excel(\"c:\\\\naver_qna\\\\우울증_0101_0115_crawling_result.xlsx\")\n",
    "doc2 = pd.read_excel(\"c:\\\\naver_qna\\\\우울증_0116_0131_crawling_result.xlsx\")\n",
    "doc3 = pd.read_excel(\"c:\\\\naver_qna\\\\우울증_0201_0228_crawling_result.xlsx\")\n",
    "doc4 = pd.read_excel(\"c:\\\\naver_qna\\\\우울증_0301_0331_crawling_result.xlsx\")\n",
    "doc5 = pd.read_excel(\"c:\\\\naver_qna\\\\우울증_0401_0415_crawling_result.xlsx\")\n",
    "doc6 = pd.read_excel(\"c:\\\\naver_qna\\\\우울증_0416_0430_crawling_result.xlsx\")\n",
    "\n",
    "doc_list = ['doc1','doc2','doc3','doc4','doc5','doc6']\n",
    "\n",
    "for i in doc_list:\n",
    "    df = globals()[i]\n",
    "    df.date = pd.to_datetime(df.date)\n",
    "\n",
    "doc1 = doc1[(doc1.date >= '2022-01-01')&(doc1.date <= '2022-01-15')]\n",
    "doc2 = doc2[(doc2.date >= '2022-01-16')&(doc2.date <= '2022-01-31')]\n",
    "doc3 = doc3[(doc3.date >= '2022-02-01')&(doc3.date <= '2022-02-28')]\n",
    "doc4 = doc4[(doc4.date >= '2022-03-01')&(doc4.date <= '2022-03-31')]\n",
    "doc5 = doc5[(doc5.date >= '2022-04-01')&(doc5.date <= '2022-04-15')]\n",
    "doc6 = doc6[(doc6.date >= '2022-04-16')&(doc6.date <= '2022-04-30')]\n",
    "\n",
    "result = pd.concat([doc1,doc2,doc3,doc4,doc5,doc6]).reset_index()\n",
    "result = result.iloc[:,1:]\n",
    "result"
   ]
  },
  {
   "cell_type": "markdown",
   "id": "8826c8cc",
   "metadata": {},
   "source": [
    "# 전처리"
   ]
  },
  {
   "cell_type": "markdown",
   "id": "31a29620",
   "metadata": {},
   "source": [
    "## 컬럼병합"
   ]
  },
  {
   "cell_type": "code",
   "execution_count": null,
   "id": "fa3ff20a",
   "metadata": {},
   "outputs": [],
   "source": [
    "df_qna = result.drop(['title', 'content'], axis = 1)\n",
    "df_qna['data'] = result.title + ' ' + result.content\n",
    "df_qna  # 총 24982건"
   ]
  },
  {
   "cell_type": "markdown",
   "id": "57cab0ef",
   "metadata": {},
   "source": [
    "## 결측치 제거"
   ]
  },
  {
   "cell_type": "code",
   "execution_count": null,
   "id": "f8859fd4",
   "metadata": {},
   "outputs": [],
   "source": [
    "df_qna.isnull().sum()  # data 컬럼에 결측치 3건\n",
    "df_qna[df_qna['data'].isnull()] #결측데이터 확인"
   ]
  },
  {
   "cell_type": "code",
   "execution_count": null,
   "id": "67ba9639",
   "metadata": {},
   "outputs": [],
   "source": [
    "df_qna.dropna(inplace = True)  # 결측치 제거\n",
    "\n",
    "# 제거된 결측치 확인\n",
    "df_qna.isnull().sum() "
   ]
  },
  {
   "cell_type": "markdown",
   "id": "9c47cc57",
   "metadata": {},
   "source": [
    "## 중복데이터 제거"
   ]
  },
  {
   "cell_type": "code",
   "execution_count": null,
   "id": "81333a29",
   "metadata": {},
   "outputs": [],
   "source": [
    "# 중복된 데이터 제거\n",
    "# 총 데이터 21536건\n",
    "df_qna.drop_duplicates(inplace = True)\n",
    "df_qna = df_qna.reset_index(drop = True)\n",
    "df_qna"
   ]
  },
  {
   "cell_type": "markdown",
   "id": "b40b665f",
   "metadata": {},
   "source": [
    "## 문자열 정제 및 토큰화"
   ]
  },
  {
   "cell_type": "markdown",
   "id": "31ceb3b3",
   "metadata": {},
   "source": [
    "### 불용어 사전 로드"
   ]
  },
  {
   "cell_type": "code",
   "execution_count": null,
   "id": "b7c4b619",
   "metadata": {},
   "outputs": [],
   "source": [
    "# 불용어 파일 로드 \n",
    "with open('c:\\\\naver_qna\\\\stopwords_korean.txt', encoding='utf8') as f:\n",
    "    stopwords = f.read()\n",
    "    stopwords = stopwords.split('\\n')\n",
    "        \n",
    "stopwords = list(set(stopwords))\n",
    "\n",
    "print(f'불용어는 총 {len(stopwords)}개 입니다. \\\n",
    "\\n이 중 사용자가 임의로 추가한 불용어는 {len(stopwords)-675}개 입니다.')"
   ]
  },
  {
   "cell_type": "markdown",
   "id": "252d339d",
   "metadata": {},
   "source": [
    "### 토큰화"
   ]
  },
  {
   "cell_type": "code",
   "execution_count": null,
   "id": "269603d1",
   "metadata": {},
   "outputs": [],
   "source": [
    "# 불용어 제거\n",
    "# Okt로 명사만 선택\n",
    "# 한글, 영어, 숫자, 특수문자 제거\n",
    "from konlpy.tag import Okt\n",
    "from tqdm import tqdm\n",
    "import re\n",
    "\n",
    "okt = Okt()\n",
    "data_sents = df_qna.data\n",
    "data_corpus = []\n",
    "\n",
    "'''\n",
    "pattern1 : 날짜 단위 규칙\n",
    "pattern2 : 나이 단위 규칙\n",
    "pattern3 : 시간 단위 규칙\n",
    "pattern4 : 학교 단위 규칙\n",
    "'''\n",
    "\n",
    "pattern1 = r\"\\d+년째|\\d+년|\\d+개월|\\d+월|\\d+일|\\d+달|\\d+달째|\\d+일째\"\n",
    "pattern2 = r\"\\d+살|\\d+세대|\\d+대\"\n",
    "pattern3 = r\"\\d+시|\\d+분|\\d+시간\"\n",
    "pattern4 = r\"고\\d+|중\\d+|초\\d+|\\d학년|\\d학기\"\n",
    "\n",
    "for idx,sent in enumerate(tqdm(data_sents)):\n",
    "    tokens = []\n",
    "    try:\n",
    "        new_sent = sent\n",
    "        new_sent = re.sub(pattern1, \"\", new_sent)\n",
    "        new_sent = re.sub(pattern2, \"\", new_sent)\n",
    "        new_sent = re.sub(pattern3, \"\", new_sent)\n",
    "        new_sent = re.sub(pattern4, \"\", new_sent)\n",
    "        new_sent = re.sub(r\"[^가-힣ㄱ-하-la-zA-Z ]\",\"\",new_sent)\n",
    "        tokens = okt.nouns(new_sent)\n",
    "        tokens = [word for word in tokens if word not in stopwords ]\n",
    "        \n",
    "    except:\n",
    "        pass\n",
    "\n",
    "    data_corpus.append(tokens)\n",
    "    \n",
    "df_qna['data_corpus'] = data_corpus"
   ]
  },
  {
   "cell_type": "markdown",
   "id": "da988792",
   "metadata": {},
   "source": [
    "## 토큰화 후 결측 데이터 제거"
   ]
  },
  {
   "cell_type": "code",
   "execution_count": null,
   "id": "f3546ce7",
   "metadata": {},
   "outputs": [],
   "source": [
    "remove_idx = []\n",
    "for idx, corpus in enumerate(df_qna.data_corpus):\n",
    "    if len(corpus) == 0:\n",
    "        print(idx, \"|\", df_qna.iloc[idx,-2],'\\n')\n",
    "        remove_idx.append(idx)\n",
    "\n",
    "df_qna_fin= df_qna.drop(remove_idx).reset_index(drop = True)\n",
    "df_qna_fin"
   ]
  },
  {
   "cell_type": "markdown",
   "id": "ff48a631",
   "metadata": {},
   "source": [
    "## 단어수 데이터셋 생성\n",
    "토큰화 후 전체 데이터셋의 단어 빈도수를 담은 데이터 프레임 생성"
   ]
  },
  {
   "cell_type": "code",
   "execution_count": null,
   "id": "0cb721c2",
   "metadata": {},
   "outputs": [],
   "source": [
    "from collections import Counter\n",
    "\n",
    "cntlist = Counter()\n",
    "\n",
    "for word in df_qna_fin.data_corpus:\n",
    "    cntlist.update(word)\n",
    "    \n",
    "df_corpus = pd.DataFrame({'word' : cntlist.keys(),\n",
    "                          'cnt' : cntlist.values()})\n",
    "\n",
    "df_corpus.sort_values(by = 'cnt', ascending = False).head(20)"
   ]
  },
  {
   "cell_type": "markdown",
   "id": "d11d21cf",
   "metadata": {},
   "source": [
    "---\n",
    "분석에 사용될 데이터 프레임은 아래와 같음.  \n",
    "\n",
    "|데이터프레임명|컬럼명|설명|\n",
    "|---|:---:|:---|\n",
    "|**df_qna_fin**|date|게시날짜|\n",
    "||user_name|사용자 정보|\n",
    "||tag|태그|\n",
    "||data|본문(작성제목+작성내용)|\n",
    "||data_corpus|본문을 자연어처리하여 생성한 명사 리스트|  \n",
    "|**df_corpus**|word|단어명|\n",
    "||cnt|빈도수|\n",
    "\n",
    "---"
   ]
  },
  {
   "cell_type": "markdown",
   "id": "c2d0224c",
   "metadata": {},
   "source": [
    "# 데이터 분석"
   ]
  },
  {
   "cell_type": "markdown",
   "id": "5f78d5dc",
   "metadata": {},
   "source": [
    "## 게시글 유형 분석"
   ]
  },
  {
   "cell_type": "markdown",
   "id": "f550c364",
   "metadata": {},
   "source": [
    "### 게시글 태그 유형"
   ]
  },
  {
   "cell_type": "code",
   "execution_count": null,
   "id": "f76522a2",
   "metadata": {},
   "outputs": [],
   "source": [
    "eda = df_qna_fin.copy()\n",
    "\n",
    "# 태그1순위만 따로 추출\n",
    "eda['tag_1'] = eda['tag'].apply(lambda x: x.split(',')[0])\n",
    "\n",
    "#태그별 빈도수 추출\n",
    "df_tag = eda.tag_1.value_counts().reset_index()\n",
    "df_tag['pct'] = eda.tag_1.value_counts(normalize = True).reset_index().iloc[:,1] * 100\n",
    "df_tag.pct = df_tag.pct.apply(lambda x:round(x, 2))\n",
    "df_tag.columns = ['tag','cnt','pct']\n",
    "\n",
    "# 상위 10개 + 그 외 태그들의 합\n",
    "df_tag11 = df_tag.head(10)\n",
    "df_tag11.loc[10] = ['그 외 1%이하', df_tag.cnt[11:].sum(), round(df_tag.pct[11:].sum(),2) ]\n",
    "df_tag11"
   ]
  },
  {
   "cell_type": "code",
   "execution_count": null,
   "id": "3e887267",
   "metadata": {},
   "outputs": [],
   "source": [
    "import numpy as np\n",
    "import matplotlib.pyplot as plt\n",
    "import seaborn as sns \n",
    "\n",
    "plt.rc('font',family = 'Malgun Gothic')  # 한글 안깨지게 하는 코드\n",
    "plt.rcParams['axes.unicode_minus'] = False # 특수문자 안깨지는 코드\n",
    "\n",
    "cmap = plt.get_cmap('Spectral')\n",
    "colors = [cmap(i) for i in np.linspace(0, 1, 10)] + ['lightgray']\n",
    "\n",
    "fig, ax = plt.subplots(figsize=(20,10), subplot_kw=dict(aspect=\"equal\"))\n",
    "\n",
    "label = df_tag11['tag'] + ' ' + df_tag11.pct.apply(lambda x : str(x) + '%')\n",
    "data = df_tag11['cnt']\n",
    "\n",
    "wedges, texts = ax.pie(data, wedgeprops=dict(width=0.5), startangle=150, colors = colors, counterclock=False)\n",
    "\n",
    "bbox_props = dict(boxstyle=\"square,pad=0.3\", fc=\"w\", ec=\"k\", lw=0.72)\n",
    "kw = dict(arrowprops=dict(arrowstyle=\"-\"),\n",
    "          zorder=0, va=\"center\")\n",
    "\n",
    "for i, p in enumerate(wedges):\n",
    "    ang = (p.theta2 - p.theta1)/2. + p.theta1\n",
    "    y = np.sin(np.deg2rad(ang))\n",
    "    x = np.cos(np.deg2rad(ang))\n",
    "    horizontalalignment = {-1: \"right\", 1: \"left\"}[int(np.sign(x))]\n",
    "    connectionstyle = \"angle,angleA=0,angleB={}\".format(ang)\n",
    "    kw[\"arrowprops\"].update({\"connectionstyle\": connectionstyle})\n",
    "    ax.annotate(label[i], xy=(x, y), xytext=(1.05*np.sign(x), 1.1*y),  # 라벨 x,y위치 조절\n",
    "                horizontalalignment=horizontalalignment, **kw)\n",
    "\n",
    "plt.title('게시글 태그 분포', size = 15, pad = 20)\n",
    "plt.show()"
   ]
  },
  {
   "cell_type": "markdown",
   "id": "db017708",
   "metadata": {},
   "source": [
    "### 사용자 공개설정 여부"
   ]
  },
  {
   "cell_type": "code",
   "execution_count": null,
   "id": "4eb6d84e",
   "metadata": {},
   "outputs": [],
   "source": [
    "# 사용자 공개여부 컬럼 생성\n",
    "eda['username_1'] = eda.user_name.apply(lambda x: '비공개' if x == '비공개' else ('알 수 없음' if x == '정보가 없는 사용자' else '공개'))\n",
    "user_x = eda.username_1.value_counts().index\n",
    "user_y = eda.username_1.value_counts().values\n",
    "\n",
    "plt.rc('font',family = 'Malgun Gothic')  # 한글 안깨지게 하는 코드\n",
    "plt.rcParams['axes.unicode_minus'] = False # 특수문자 안깨지는 코드\n",
    "\n",
    "# 그래프 그리기\n",
    "plt.figure(figsize = (10,8))\n",
    "x = plt.bar(user_x,user_y,\n",
    "           width = 0.5)\n",
    "\n",
    "plt.title('사용자 공개설정 여부', size = 15, pad = 20)\n",
    "plt.xticks(size = 15)\n",
    "plt.yticks(size = 15)\n",
    "plt.ylim([0,18000])\n",
    "plt.ylabel('(단위 : 건)', size = 12,labelpad = 10)\n",
    "plt.grid(True,  alpha=0.3)\n",
    "\n",
    "font = {'family': 'Arial',\n",
    "      'color':  'black',\n",
    "        'size': 15,\n",
    "      'alpha': 0.7}\n",
    "\n",
    "for idx, value in enumerate(user_y):\n",
    "    text = '{:0,d}'.format(value)\n",
    "    plt.text(idx-0.07, value+100, text, fontdict = font)\n",
    "\n",
    "for i in list(['right','top','left']):\n",
    "    plt.gca().spines[i].set_visible(False)\n",
    "    \n",
    "plt.show()"
   ]
  },
  {
   "cell_type": "markdown",
   "id": "94e99522",
   "metadata": {},
   "source": [
    "### 요일별 게시글 수"
   ]
  },
  {
   "cell_type": "code",
   "execution_count": null,
   "id": "69cff1b1",
   "metadata": {},
   "outputs": [],
   "source": [
    "# 요일별 빈도수를 담은 변수 생성\n",
    "day_x = eda.date.dt.weekday.value_counts().sort_index().index\n",
    "day_y = eda.date.dt.weekday.value_counts().sort_index().values\n",
    "\n",
    "# 그래프 그리기\n",
    "plt.figure(figsize = (10,5))\n",
    "x = plt.bar(day_x, day_y,width = 0.6)\n",
    "\n",
    "plt.title('요일별 게시글 수', size = 15, pad = 20)\n",
    "plt.xticks(list(range(7)), labels = ['월요일','화요일','수요일','목요일','금요일','토요일','일요일'], size = 12)\n",
    "plt.yticks([0,1000,2000,3000,4000], size = 12)\n",
    "plt.ylim([0,4000])\n",
    "plt.ylabel('(단위 : 건)', size = 12,labelpad = 8)\n",
    "plt.grid(True,  alpha=0.3)\n",
    "\n",
    "font = {'family': 'Arial',\n",
    "      'color':  'black',\n",
    "        'size': 12,\n",
    "      'alpha': 0.7}\n",
    "\n",
    "for idx, value in enumerate(day_y):\n",
    "    text = '{:0,d}'.format(value)\n",
    "    plt.text(idx-0.18, value+100, text, fontdict = font)\n",
    "\n",
    "for i in list(['right','top','left']):\n",
    "    plt.gca().spines[i].set_visible(False)\n",
    "\n",
    "plt.show()"
   ]
  },
  {
   "cell_type": "markdown",
   "id": "0229a913",
   "metadata": {},
   "source": [
    "### 월별 게시글 수"
   ]
  },
  {
   "cell_type": "code",
   "execution_count": null,
   "id": "736f0a68",
   "metadata": {},
   "outputs": [],
   "source": [
    "# date에서 월(month) 데이터 추출하여 컬럼 생성\n",
    "eda['date_month'] = eda.date.dt.month.apply(lambda x:str(x)+'월')\n",
    "\n",
    "# 월별 데이터에서 빈도수를 담은 변수 생성\n",
    "month_x = eda.date_month.value_counts().sort_index().index\n",
    "month_y = eda.date_month.value_counts().sort_index().values\n",
    "\n",
    "# 그래프 그리기\n",
    "plt.figure(figsize = (8,5))\n",
    "x = plt.bar(month_x, month_y, width = 0.5)\n",
    "\n",
    "plt.title('월별 게시글 수', size = 15, pad = 20)\n",
    "\n",
    "# plt.xticks(labels = month_x ,size = 12)\n",
    "plt.yticks(np.arange(4000,6001,500), size = 12)\n",
    "plt.ylim([4000,6000])\n",
    "plt.ylabel('(단위 : 건)', size = 12,labelpad = 8)\n",
    "plt.grid(True, alpha=0.3)\n",
    "\n",
    "font = {'family': 'Arial',\n",
    "      'color':  'black',\n",
    "        'size': 12,\n",
    "      'alpha': 0.7}\n",
    "\n",
    "for idx, value in enumerate(month_y):\n",
    "    text = '{:0,d}'.format(value)\n",
    "    plt.text(idx-0.1, value+50, text, fontdict = font)        \n",
    "    \n",
    "for i in list(['right','top','left']):\n",
    "    plt.gca().spines[i].set_visible(False)\n",
    "\n",
    "plt.show()"
   ]
  },
  {
   "cell_type": "markdown",
   "id": "822207cc",
   "metadata": {},
   "source": [
    "### 월별 게시글 태그 상위 5개"
   ]
  },
  {
   "cell_type": "code",
   "execution_count": null,
   "id": "125a9678",
   "metadata": {},
   "outputs": [],
   "source": [
    "# 월별 게시글 태그 상위 5개 데이터 추출\n",
    "tag_by_month = eda[['date_month','tag']].value_counts().reset_index()\n",
    "tag_by_month.columns = ['month','tag','cnt']\n",
    "tag_by_month = tag_by_month.sort_values(by = ['month', 'cnt'], ascending = [True, False]).groupby('month').head(5)\n",
    "\n",
    "# ax2그래프의 변수 설정\n",
    "tag_x = tag_by_month.groupby('month')['cnt'].sum().index\n",
    "tag_y = tag_by_month.groupby('month')['cnt'].sum().values\n",
    "\n",
    "# 그래프 그리기\n",
    "plt.figure(figsize = (18,8))\n",
    "\n",
    "custom_palette = sns.color_palette(\"Paired\", 7)\n",
    "\n",
    "ax1 = sns.barplot(x = 'month', y = 'cnt', hue = 'tag', data = tag_by_month, palette = custom_palette)\n",
    "ax2 = plt.plot(tag_x, tag_y,'o--', color = 'black', label = '게시글 수') \n",
    "\n",
    "plt.legend(loc=(0.13, 1.03), ncol = 8, frameon = False)\n",
    "plt.xticks(size = 12)\n",
    "plt.yticks(size = 12)\n",
    "plt.xlabel('month', size = 12)\n",
    "plt.ylabel('cnt (단위 : 건)', size = 12)\n",
    "plt.ylim([0,3000])\n",
    "\n",
    "for container in ax1.containers:\n",
    "    plt.bar_label(container, padding = 5, size = 12)\n",
    "\n",
    "for x, y in zip(tag_x, tag_y):\n",
    "    plt.text(x = x, y = y+70,\n",
    "             s = \"{:.0f}\".format(y),\n",
    "             size = 12)\n",
    "    \n",
    "plt.title('월별 게시글 태그 상위 5개', size = 15, pad = 40)\n",
    "plt.grid(True, alpha=0.3)\n",
    "\n",
    "for i in list(['right','top','left']):\n",
    "    plt.gca().spines[i].set_visible(False)\n",
    "\n",
    "plt.show()"
   ]
  },
  {
   "cell_type": "markdown",
   "id": "32cf690f",
   "metadata": {},
   "source": [
    "### 게시글 글자수 "
   ]
  },
  {
   "cell_type": "code",
   "execution_count": null,
   "id": "438aff96",
   "metadata": {},
   "outputs": [],
   "source": [
    "print(f'''\n",
    "게시글의 평균 길이는 {round(eda.data.apply(lambda x : len(x)).mean())}자 이다.\n",
    "최소 길이는  {min(eda.data.apply(lambda x : len(x)))}자, 최대 길이는  {max(eda.data.apply(lambda x : len(x)))}자 이다.\n",
    "''')\n",
    "\n",
    "# 본문 글자수 계산한 컬럼 생성\n",
    "eda['word_num'] = eda.data.apply(lambda x: len(x))\n",
    "eda"
   ]
  },
  {
   "cell_type": "code",
   "execution_count": null,
   "id": "42599d69",
   "metadata": {},
   "outputs": [],
   "source": [
    "# 글자수 통계정보\n",
    "eda[['word_num']].describe().apply(lambda x: x.astype(int))"
   ]
  },
  {
   "cell_type": "markdown",
   "id": "e10d706a",
   "metadata": {},
   "source": [
    "#### 게시글별 글자수 분포"
   ]
  },
  {
   "cell_type": "code",
   "execution_count": null,
   "id": "07979129",
   "metadata": {},
   "outputs": [],
   "source": [
    "plt.rc('font',family = 'Malgun Gothic')  # 한글 안깨지게 하는 코드\n",
    "plt.rcParams['axes.unicode_minus'] = False # 특수문자 안깨지는 코드\n",
    "\n",
    "# 그래프 그리기\n",
    "plt.figure(figsize = (20,30))\n",
    "sns.displot(eda.word_num, height = 5, aspect = 2)\n",
    "\n",
    "plt.xticks(size = 12)\n",
    "plt.yticks(size = 12)\n",
    "plt.xlabel('단어수', size = 12)\n",
    "plt.ylabel('Count', size = 12)\n",
    "plt.xlim([0,max(eda.word_num)])\n",
    "plt.title('게시글별 글자수 분포', size = 12, pad = 15)\n",
    "\n",
    "plt.show()"
   ]
  },
  {
   "cell_type": "markdown",
   "id": "3d6d0708",
   "metadata": {},
   "source": [
    "#### 상위 1%를 제외한 게시글별 글자수 분포"
   ]
  },
  {
   "cell_type": "code",
   "execution_count": null,
   "id": "fa7ca375",
   "metadata": {},
   "outputs": [],
   "source": [
    "# 상위 1% 제외\n",
    "cut_point = eda.word_num.quantile(0.99)\n",
    "eda2 = eda[eda.word_num < cut_point]\n",
    "\n",
    "# 그래프 그리기\n",
    "plt.figure(figsize = (20,30))\n",
    "\n",
    "plt.rc('font',family = 'Malgun Gothic')  # 한글 안깨지게 하는 코드\n",
    "plt.rcParams['axes.unicode_minus'] = False # 특수문자 안깨지는 코드\n",
    "\n",
    "sns.displot(eda2.word_num, height = 5, aspect = 2)\n",
    "sns.set_style(\"whitegrid\")\n",
    "\n",
    "plt.xticks(size = 12)\n",
    "plt.yticks(size = 12)\n",
    "plt.xlabel('단어수', size = 12)\n",
    "plt.ylabel('Count', size = 12)\n",
    "plt.xlim([0,2100])\n",
    "\n",
    "plt.title('(상위 1%를 제외한) 게시글별 글자수 분포', size = 12, pad  = 15)\n",
    "\n",
    "plt.show()"
   ]
  },
  {
   "cell_type": "markdown",
   "id": "f2d1d186",
   "metadata": {},
   "source": [
    "### 단어 빈도수 워드클라우드"
   ]
  },
  {
   "cell_type": "code",
   "execution_count": null,
   "id": "3420f907",
   "metadata": {},
   "outputs": [],
   "source": [
    "# 단어 빈도수 데이터 프레임\n",
    "wc_temp = pd.DataFrame(cntlist.most_common(20)[:10])\n",
    "wc_temp2 = pd.DataFrame(cntlist.most_common(20)[10:])\n",
    "df_wc = pd.concat([pd.DataFrame({'rank':list(range(1,11))}),wc_temp, \n",
    "                   pd.DataFrame({'rank':list(range(11,21))}),wc_temp2], axis = 1)\n",
    "df_wc.columns = ['rank','word', 'cnt(단위 : 건)']*2\n",
    "df_wc"
   ]
  },
  {
   "cell_type": "code",
   "execution_count": null,
   "id": "e53c9ba5",
   "metadata": {},
   "outputs": [],
   "source": [
    "# 워드클라우드\n",
    "def word_cloud(wc_list,colormap) :\n",
    "    from wordcloud import WordCloud\n",
    "    import matplotlib.pyplot as plt\n",
    "    from collections import Counter\n",
    "    from konlpy.tag import Okt\n",
    "    from PIL import Image\n",
    "    import numpy as np\n",
    "    \n",
    "    img = Image.open('c:\\\\naver_qna\\\\head.png')  #워드클라우드 배경이미지\n",
    "    img_array = np.array(img)\n",
    "\n",
    "    wc = WordCloud(background_color ='white',colormap = colormap,\n",
    "                   width = 700, height = 700, font_path='H2GTRE',\n",
    "                   max_font_size=300, max_words=150, mask = img_array)\n",
    "\n",
    "    gen = wc.generate_from_frequencies(wc_list)\n",
    "\n",
    "    plt.figure(figsize = (6,6))\n",
    "    plt.imshow(gen)\n",
    "    plt.axis('off')\n",
    "    plt.show()\n",
    "\n",
    "#     wc.to_file('c:\\\\naver_qna\\\\qna_wordcloud_con_corpus.jpg')\n",
    "\n",
    "word_cloud(cntlist, 'gist_earth')"
   ]
  },
  {
   "cell_type": "markdown",
   "id": "98591c6a",
   "metadata": {},
   "source": [
    "## 군집분석"
   ]
  },
  {
   "cell_type": "markdown",
   "id": "5a041ac0",
   "metadata": {},
   "source": [
    "### Word2Vec\n",
    "gensim의 패키지 Word2Vec을 사용하여 벡터화. vector_size = 100, 단어 등장횟수 10번 이상, CBoW로 진행"
   ]
  },
  {
   "cell_type": "code",
   "execution_count": null,
   "id": "77d8485f",
   "metadata": {},
   "outputs": [],
   "source": [
    "from gensim.models import Word2Vec\n",
    "from sklearn.manifold import TSNE\n",
    "from matplotlib import font_manager as fm\n",
    "from matplotlib import rc\n",
    "\n",
    "word_corpus = df_qna_fin.data_corpus.to_list()\n",
    "model = Word2Vec(word_corpus, vector_size = 100, window = 5, min_count = 20, sg = 0, seed = 100)\n",
    "\n",
    "# # 단어 유사도 분석\n",
    "# model.wv.most_similar('우울', topn=20)"
   ]
  },
  {
   "cell_type": "markdown",
   "id": "6b9d9619",
   "metadata": {},
   "source": [
    "### 차원축소"
   ]
  },
  {
   "cell_type": "code",
   "execution_count": null,
   "id": "5606bcb4",
   "metadata": {},
   "outputs": [],
   "source": [
    "tsne = TSNE(n_components = 2, random_state = 100)\n",
    "\n",
    "vocab = model.wv.key_to_index.keys()\n",
    "similarity = model.wv[vocab]\n",
    "print(similarity.shape)\n",
    "\n",
    "transform_similarity = tsne.fit_transform(similarity) # 2차원으로 변환됨\n",
    "df_tsne = pd.DataFrame(transform_similarity, index = vocab, columns = ['x','y']).reset_index()\n",
    "df_tsne.columns = ['word','x','y']\n",
    "df_tsne[:10]"
   ]
  },
  {
   "cell_type": "markdown",
   "id": "dc6938c7",
   "metadata": {},
   "source": [
    "### k-means "
   ]
  },
  {
   "cell_type": "code",
   "execution_count": null,
   "id": "bc4e2928",
   "metadata": {},
   "outputs": [],
   "source": [
    "# elbow method\n",
    "from sklearn.cluster import KMeans\n",
    "import matplotlib.pyplot as plt\n",
    "\n",
    "sse = []\n",
    "for i in range(1,11):\n",
    "    km = KMeans(n_clusters = i, init = 'k-means++', random_state = 0)\n",
    "    km.fit(df_tsne.iloc[:,1:]) #x, y 좌표만 넣음\n",
    "    sse.append(km.inertia_)\n",
    "\n",
    "plt.figure(figsize = (6,5))\n",
    "plt.plot(range(1,11), sse, marker = 'o')\n",
    "plt.xlabel('Number of clusters')\n",
    "plt.ylabel('SSE')\n",
    "plt.title('KMEANS ElBOW METHOD')\n",
    "plt.show()"
   ]
  },
  {
   "cell_type": "code",
   "execution_count": null,
   "id": "a9ca2f13",
   "metadata": {},
   "outputs": [],
   "source": [
    "from sklearn.cluster import KMeans\n",
    "import seaborn as sns\n",
    "from collections import Counter\n",
    "\n",
    "# 군집분석\n",
    "kmeans = KMeans(n_clusters = 3, random_state = 100)\n",
    "predict = kmeans.fit_predict(df_tsne.iloc[:,1:])\n",
    "\n",
    "# 데이터에 predict 컬럼 추가\n",
    "colordict = {0:'cluster1', 1:'cluster2', 2:'cluster3'}\n",
    "df_tsne['predict'] = list(map(lambda x: colordict[x], predict))"
   ]
  },
  {
   "cell_type": "code",
   "execution_count": null,
   "id": "dc6e22bf",
   "metadata": {},
   "outputs": [],
   "source": [
    "# 단어수 추가\n",
    "for word in tqdm(df_tsne.word):\n",
    "    df_tsne.loc[df_tsne.word == word, 'cnt'] = df_corpus[df_corpus.word == word]['cnt'].values[0]\n",
    "    \n",
    "df_tsne"
   ]
  },
  {
   "cell_type": "markdown",
   "id": "3f0acf68",
   "metadata": {},
   "source": [
    "### 그래프 그리기1 - seaborn"
   ]
  },
  {
   "cell_type": "code",
   "execution_count": null,
   "id": "be9b176f",
   "metadata": {},
   "outputs": [],
   "source": [
    "# 군집 시각화 함수 생성\n",
    "def Draw_Cluster(dataframe,hue,legend):\n",
    "    plt.rc('font',family = 'Malgun Gothic')  # 한글 안깨지게 하는 코드\n",
    "    plt.rcParams['axes.unicode_minus'] = False # 특수문자 안깨지는 코드\n",
    "    \n",
    "    sns.lmplot('x','y', \n",
    "               data = dataframe, \n",
    "               fit_reg = False, \n",
    "               size = 6, \n",
    "               hue = hue, \n",
    "               legend = True, palette = 'deep')\n",
    "#     plt.legend(legend)\n",
    "    plt.show()\n",
    "\n",
    "def Find_ClusterCenter(dataframe,hue,palette,legend):\n",
    "    sns.lmplot('x','y', data = dataframe, \n",
    "               fit_reg = False, size = 6, \n",
    "               hue = 'predict', legend = False,\n",
    "          palette = palette)\n",
    "    \n",
    "    plt.scatter(kmeans.cluster_centers_[:,0], kmeans.cluster_centers_[:,1], \n",
    "                c = 'red', marker = '*', s = 50, label = '클러스터 중심')\n",
    "\n",
    "    plt.legend(legend)\n",
    "    plt.show()\n",
    "    \n",
    "palette = ['lightsteelblue', 'bisque','darkseagreen','lightpink']\n",
    "legend = ['cluster1', 'cluster2', 'cluster3']\n",
    "\n",
    "# 함수 호출\n",
    "Draw_Cluster(df_tsne, 'predict',legend)\n",
    "# Find_ClusterCenter(df_tsne, 'predict', palette, legend)"
   ]
  },
  {
   "cell_type": "code",
   "execution_count": null,
   "id": "b3095769",
   "metadata": {},
   "outputs": [],
   "source": [
    "# 군집별로 시각화\n",
    "def graph_Center(dataframe, pred_num, title, color):\n",
    "    palette = ['lightgray'] * 4\n",
    "    palette[pred_num] = color\n",
    "    \n",
    "    sns.lmplot('x','y', data = dataframe, \n",
    "               fit_reg = False, size = 6, \n",
    "               hue = 'predict', legend = False,\n",
    "               palette = palette)\n",
    "    plt.scatter(kmeans.cluster_centers_[pred_num,0], \n",
    "                kmeans.cluster_centers_[pred_num,1], \n",
    "                c = 'red', marker = '*', s = 50, label = '클러스터 중심')\n",
    "\n",
    "    plt.title(title, size = 20)\n",
    "    plt.show()\n",
    "    \n",
    "graph_Center(df_tsne, 0, legend[0], palette[0])\n",
    "graph_Center(df_tsne, 1, legend[1], palette[1])\n",
    "graph_Center(df_tsne, 2, legend[2], palette[2])"
   ]
  },
  {
   "cell_type": "code",
   "execution_count": null,
   "id": "fc20fc79",
   "metadata": {},
   "outputs": [],
   "source": [
    "# 군집별 단어 등장횟수에 따른 순위\n",
    "def sort_cnt_cluster(dataframe, pred_num):\n",
    "    df_temp = dataframe[dataframe.predict == pred_num]\n",
    "    df_temp = df_temp[['word','cnt']].sort_values('cnt', ascending = False).reset_index(drop = True)\n",
    "    \n",
    "    return df_temp\n",
    "    \n",
    "cnt1 = sort_cnt_cluster(df_tsne, 'cluster1')\n",
    "cnt2 = sort_cnt_cluster(df_tsne, 'cluster2')\n",
    "cnt3 = sort_cnt_cluster(df_tsne, 'cluster3')\n",
    "\n",
    "df_sort_cnt = pd.DataFrame(pd.concat([cnt1,cnt2,cnt3], axis = 1))\n",
    "\n",
    "column = pd.MultiIndex.from_product([['cluster1','cluster2','cluster3'],['word','cnt']], names = ['cluster','column'])\n",
    "df_sort_cnt.columns = column\n",
    "\n",
    "df_sort_cnt.head(20)"
   ]
  },
  {
   "cell_type": "markdown",
   "id": "35326f5c",
   "metadata": {},
   "source": [
    "### 그래프 그리기2 - Plotly"
   ]
  },
  {
   "cell_type": "code",
   "execution_count": null,
   "id": "517dc9c3",
   "metadata": {},
   "outputs": [],
   "source": [
    "import chart_studio\n",
    "# username, api_key 입력\n",
    "chart_studio.tools.set_credentials_file(username = , api_key= )\n",
    "\n",
    "import plotly\n",
    "import plotly.graph_objs as go\n",
    "import plotly.express as px\n",
    "import chart_studio.plotly as py\n",
    "\n",
    "fig = px.scatter(df_tsne,\n",
    "                 x='x',\n",
    "                 y='y',\n",
    "                 color='predict', \n",
    "                 title = '군집분석', \n",
    "                 size = 'cnt', size_max = 80, hover_name=\"word\"\n",
    "                )\n",
    "\n",
    "fig.update_traces(textfont_size=15, textposition='top center')\n",
    "\n",
    "# py.iplot(fig)\n",
    "py.plot(fig, filename = 'cluster_fin', auto_open=True)\n",
    "# fig.show()"
   ]
  },
  {
   "cell_type": "markdown",
   "id": "5dbd2710",
   "metadata": {},
   "source": [
    "## 연관분석 및 네트워크 신경망"
   ]
  },
  {
   "cell_type": "code",
   "execution_count": null,
   "id": "c82bd717",
   "metadata": {},
   "outputs": [],
   "source": [
    "## 연관분석\n",
    "import pandas as pd\n",
    "from mlxtend.preprocessing import TransactionEncoder\n",
    "from mlxtend.frequent_patterns import apriori, association_rules\n",
    "\n",
    "te = TransactionEncoder()\n",
    "te_ary = te.fit_transform(word_corpus)\n",
    "df = pd.DataFrame(te_ary, columns = te.columns_)\n",
    "df"
   ]
  },
  {
   "cell_type": "code",
   "execution_count": null,
   "id": "9306575e",
   "metadata": {},
   "outputs": [],
   "source": [
    "frequent_itemsets = apriori(df, min_support = 0.04, use_colnames = True)\n",
    "frequent_itemsets"
   ]
  },
  {
   "cell_type": "code",
   "execution_count": null,
   "id": "eb6f655d",
   "metadata": {},
   "outputs": [],
   "source": [
    "# 단어2개 쌍만 추출\n",
    "apri = association_rules(frequent_itemsets, metric=\"lift\", min_threshold = 1)\n",
    "apri = apri[(apri.antecedents.apply(lambda x: len(x) == 1))&(apri.consequents.apply(lambda x: len(x) == 1))]\n",
    "apri = apri.explode('antecedents').explode('consequents')\n",
    "apri"
   ]
  },
  {
   "cell_type": "markdown",
   "id": "b607ffc3",
   "metadata": {},
   "source": [
    "### 네트워크 신경망 그리기"
   ]
  },
  {
   "cell_type": "code",
   "execution_count": null,
   "id": "046282b1",
   "metadata": {},
   "outputs": [],
   "source": [
    "import networkx as nx\n",
    "from pyvis.network import Network\n",
    "\n",
    "G = nx.from_pandas_edgelist(apri,\n",
    "                          source = \"antecedents\",\n",
    "                           target = \"consequents\")\n",
    "\n",
    "def draw_network(network):\n",
    "    net = Network(\"600px\", \"1000px\", notebook=False)\n",
    "    palette = ['steelblue', 'darkorange','darkgreen']\n",
    "    \n",
    "    # node_size\n",
    "    for node in network.nodes():\n",
    "        network.nodes[node]['size'] = int(df_corpus['cnt'][df_corpus.word == node]) / 500\n",
    "        \n",
    "        colordict = {'cluster1':'orangered', 'cluster2':'lightseagreen', 'cluster3':'slateblue'}\n",
    "        color = df_tsne[['predict']][df_tsne.word == node].iloc[0,0]\n",
    "        network.nodes[node]['color'] = colordict[color]\n",
    "\n",
    "    net.from_nx(network)\n",
    "    net.show('network.html')\n",
    "\n",
    "draw_network(G)"
   ]
  }
 ],
 "metadata": {
  "kernelspec": {
   "display_name": "Python 3 (ipykernel)",
   "language": "python",
   "name": "python3"
  },
  "language_info": {
   "codemirror_mode": {
    "name": "ipython",
    "version": 3
   },
   "file_extension": ".py",
   "mimetype": "text/x-python",
   "name": "python",
   "nbconvert_exporter": "python",
   "pygments_lexer": "ipython3",
   "version": "3.10.4"
  },
  "toc": {
   "base_numbering": 1,
   "nav_menu": {},
   "number_sections": true,
   "sideBar": true,
   "skip_h1_title": false,
   "title_cell": "Table of Contents",
   "title_sidebar": "Contents",
   "toc_cell": false,
   "toc_position": {
    "height": "calc(100% - 180px)",
    "left": "10px",
    "top": "150px",
    "width": "258.663px"
   },
   "toc_section_display": true,
   "toc_window_display": false
  }
 },
 "nbformat": 4,
 "nbformat_minor": 5
}
